{
  "nbformat": 4,
  "nbformat_minor": 0,
  "metadata": {
    "colab": {
      "provenance": [],
      "authorship_tag": "ABX9TyO3bmO56t0RyAWeh+pta+Zb",
      "include_colab_link": true
    },
    "kernelspec": {
      "name": "python3",
      "display_name": "Python 3"
    },
    "language_info": {
      "name": "python"
    }
  },
  "cells": [
    {
      "cell_type": "markdown",
      "metadata": {
        "id": "view-in-github",
        "colab_type": "text"
      },
      "source": [
        "<a href=\"https://colab.research.google.com/github/aoonging/dataviz2025/blob/main/My_first_python_code_.ipynb\" target=\"_parent\"><img src=\"https://colab.research.google.com/assets/colab-badge.svg\" alt=\"Open In Colab\"/></a>"
      ]
    },
    {
      "cell_type": "markdown",
      "source": [
        "Here we can wtite using **markdown**\n",
        "# intro\n",
        "\n"
      ],
      "metadata": {
        "id": "yINRqaFEIUMg"
      }
    },
    {
      "cell_type": "code",
      "source": [],
      "metadata": {
        "id": "KvcgWHRJJdQ4"
      },
      "execution_count": null,
      "outputs": []
    },
    {
      "cell_type": "markdown",
      "source": [
        "#name"
      ],
      "metadata": {
        "id": "GNbV0JVkIdS3"
      }
    },
    {
      "cell_type": "code",
      "execution_count": 3,
      "metadata": {
        "colab": {
          "base_uri": "https://localhost:8080/"
        },
        "id": "-N_NXDNxHJDB",
        "outputId": "16d21d08-98f3-43c7-aa34-3d360a6b396d"
      },
      "outputs": [
        {
          "output_type": "stream",
          "name": "stdout",
          "text": [
            "Boonyarat\n"
          ]
        }
      ],
      "source": [
        "print('Boonyarat')"
      ]
    },
    {
      "cell_type": "markdown",
      "source": [
        "#surname"
      ],
      "metadata": {
        "id": "f_f_0gXEIiI3"
      }
    },
    {
      "cell_type": "code",
      "source": [
        "print('Senjan')"
      ],
      "metadata": {
        "colab": {
          "base_uri": "https://localhost:8080/"
        },
        "id": "O1Yb-2WFJAHo",
        "outputId": "7efcb6c3-e98d-4abc-8215-5db44ac12f4f"
      },
      "execution_count": 2,
      "outputs": [
        {
          "output_type": "stream",
          "name": "stdout",
          "text": [
            "Senjan\n"
          ]
        }
      ]
    }
  ]
}